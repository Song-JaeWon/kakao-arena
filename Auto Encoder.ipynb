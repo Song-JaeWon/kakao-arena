{
 "cells": [
  {
   "cell_type": "code",
   "execution_count": 2,
   "metadata": {
    "ExecuteTime": {
     "end_time": "2020-07-02T08:34:43.354081Z",
     "start_time": "2020-07-02T08:34:28.566241Z"
    }
   },
   "outputs": [],
   "source": [
    "import pandas as pd\n",
    "import numpy as np\n",
    "import matplotlib as mpl\n",
    "import matplotlib.pyplot as plt\n",
    "import seaborn as sns\n",
    "\n",
    "import os\n",
    "import gc\n",
    "\n",
    "from tqdm import tqdm\n",
    "from scipy.sparse import csr_matrix\n",
    "\n",
    "%matplotlib inline\n",
    "\n",
    "from tensorflow.keras.models import Sequential, Model\n",
    "from tensorflow.keras.layers import Dense, Dropout, Input\n",
    "\n",
    "from tensorflow import keras\n",
    "\n",
    "\"\"\"mpl.rcParams['axes.unicode_minus'] = False\n",
    "plt.rcParams[\"figure.figsize\"] = (8,3)\n",
    "plt.rcParams[\"font.family\"] = \"Malgun Gothic\"\n",
    "plt.rcParams[\"font.size\"] = 10\"\"\"\n",
    "\n",
    "os.chdir(\"./arena_data/\")\n",
    "\n",
    "train = pd.read_json(\"train.json\", encoding=\"utf-8\")\n",
    "test = pd.read_json(\"test.json\", encoding=\"utf-8\")\n",
    "val = pd.read_json(\"val.json\", encoding=\"utf-8\")\n",
    "song_meta = pd.read_json(\"song_meta.json\", encoding=\"utf-8\")\n",
    "genre_gn_all = pd.read_json(\"genre_gn_all.json\", typ = 'series', encoding=\"utf-8\") "
   ]
  },
  {
   "cell_type": "markdown",
   "metadata": {},
   "source": [
    "### Song FIltering"
   ]
  },
  {
   "cell_type": "code",
   "execution_count": 5,
   "metadata": {
    "ExecuteTime": {
     "end_time": "2020-07-01T08:37:51.805190Z",
     "start_time": "2020-07-01T08:37:50.668565Z"
    }
   },
   "outputs": [
    {
     "data": {
      "text/html": [
       "<div>\n",
       "<style scoped>\n",
       "    .dataframe tbody tr th:only-of-type {\n",
       "        vertical-align: middle;\n",
       "    }\n",
       "\n",
       "    .dataframe tbody tr th {\n",
       "        vertical-align: top;\n",
       "    }\n",
       "\n",
       "    .dataframe thead th {\n",
       "        text-align: right;\n",
       "    }\n",
       "</style>\n",
       "<table border=\"1\" class=\"dataframe\">\n",
       "  <thead>\n",
       "    <tr style=\"text-align: right;\">\n",
       "      <th></th>\n",
       "      <th>index</th>\n",
       "      <th>counts_in_plylst</th>\n",
       "    </tr>\n",
       "  </thead>\n",
       "  <tbody>\n",
       "    <tr>\n",
       "      <th>0</th>\n",
       "      <td>144663</td>\n",
       "      <td>2175</td>\n",
       "    </tr>\n",
       "    <tr>\n",
       "      <th>1</th>\n",
       "      <td>116573</td>\n",
       "      <td>2121</td>\n",
       "    </tr>\n",
       "    <tr>\n",
       "      <th>2</th>\n",
       "      <td>357367</td>\n",
       "      <td>1981</td>\n",
       "    </tr>\n",
       "    <tr>\n",
       "      <th>3</th>\n",
       "      <td>366786</td>\n",
       "      <td>1919</td>\n",
       "    </tr>\n",
       "    <tr>\n",
       "      <th>4</th>\n",
       "      <td>654757</td>\n",
       "      <td>1647</td>\n",
       "    </tr>\n",
       "  </tbody>\n",
       "</table>\n",
       "</div>"
      ],
      "text/plain": [
       "    index  counts_in_plylst\n",
       "0  144663              2175\n",
       "1  116573              2121\n",
       "2  357367              1981\n",
       "3  366786              1919\n",
       "4  654757              1647"
      ]
     },
     "execution_count": 5,
     "metadata": {},
     "output_type": "execute_result"
    }
   ],
   "source": [
    "songs_in_plylst = np.dstack(\n",
    "    (\n",
    "        np.concatenate(train.songs.values),\n",
    "        np.repeat(train.id.values, list(map(len, train.songs))), \n",
    "    )\n",
    ")\n",
    "\n",
    "songs_in_plylst = pd.DataFrame(songs_in_plylst[0], columns = ['song_id', 'plylst_id'])\n",
    "songs_in_plylst.song_id.value_counts().quantile([.1, .25, .5, .75, .8, .9, .95, .99])\n",
    "\n",
    "song_cnt = songs_in_plylst.song_id.value_counts().reset_index(name = \"counts_in_plylst\")\n",
    "\n",
    "song_cnt[song_cnt.counts_in_plylst >= 13].head()"
   ]
  },
  {
   "cell_type": "code",
   "execution_count": 6,
   "metadata": {
    "ExecuteTime": {
     "end_time": "2020-07-01T08:37:52.517337Z",
     "start_time": "2020-07-01T08:37:52.501305Z"
    }
   },
   "outputs": [],
   "source": [
    "major_song_lst = song_cnt[song_cnt.counts_in_plylst >= 13]['index'].tolist()"
   ]
  },
  {
   "cell_type": "markdown",
   "metadata": {},
   "source": [
    "### train playlist 수정"
   ]
  },
  {
   "cell_type": "code",
   "execution_count": 14,
   "metadata": {
    "ExecuteTime": {
     "end_time": "2020-06-29T06:42:12.895958Z",
     "start_time": "2020-06-29T06:35:53.563095Z"
    }
   },
   "outputs": [],
   "source": [
    "# fsongs = train.songs.apply(lambda x : list(set(x).intersection(set(major_song_lst))))"
   ]
  },
  {
   "cell_type": "code",
   "execution_count": 3,
   "metadata": {
    "ExecuteTime": {
     "end_time": "2020-07-02T08:34:45.586451Z",
     "start_time": "2020-07-02T08:34:44.752376Z"
    }
   },
   "outputs": [],
   "source": [
    "import pickle\n",
    "\n",
    "\"\"\"\n",
    "with open(\"fsongs.pickle\", \"wb\") as f:\n",
    "    pickle.dump(fsongs, f, protocol = pickle.HIGHEST_PROTOCOL)\n",
    "\"\"\"\n",
    "\n",
    "with open(\"fsongs.pickle\", 'rb') as f:\n",
    "    fsongs = pickle.load(f)\n",
    "\n",
    "train['fsongs'] = fsongs\n",
    "\n",
    "# va_fsongs = val.songs.apply(lambda x : list(set(x).intersection(set(major_song_lst))))\n",
    "\n",
    "\"\"\"\n",
    "with open(\"va_fsongs.pickle\", \"wb\") as f:\n",
    "    pickle.dump(va_fsongs, f, protocol = pickle.HIGHEST_PROTOCOL)\n",
    "\"\"\"\n",
    "\n",
    "with open(\"va_fsongs.pickle\", 'rb') as f:\n",
    "    va_fsongs = pickle.load(f)\n",
    "\n",
    "val['fsongs'] = va_fsongs"
   ]
  },
  {
   "cell_type": "code",
   "execution_count": 5,
   "metadata": {
    "ExecuteTime": {
     "end_time": "2020-07-02T08:34:55.132711Z",
     "start_time": "2020-07-02T08:34:55.122692Z"
    }
   },
   "outputs": [],
   "source": [
    "tr_songs = train.fsongs.tolist()\n",
    "tr_tags = train.tags.tolist()\n",
    "\n",
    "va_songs = val.fsongs.tolist()\n",
    "va_tags = val.tags.tolist()"
   ]
  },
  {
   "cell_type": "code",
   "execution_count": 6,
   "metadata": {
    "ExecuteTime": {
     "end_time": "2020-07-02T08:35:00.601284Z",
     "start_time": "2020-07-02T08:34:59.452437Z"
    }
   },
   "outputs": [],
   "source": [
    "tr = [] # tr 초기화\n",
    "iid_to_idx = {}\n",
    "tag_to_idx = {} \n",
    "idx = 0\n",
    "\n",
    "for i, l in enumerate(tr_songs):\n",
    "    view = l\n",
    "    for item_id in view:\n",
    "        if item_id not in iid_to_idx:\n",
    "            iid_to_idx[item_id] = idx\n",
    "            idx += 1\n",
    "    view = [iid_to_idx[x] for x in view] \n",
    "    tr.append(view) # => song_id 재설정\n",
    "\n",
    "n_items = len(iid_to_idx)"
   ]
  },
  {
   "cell_type": "code",
   "execution_count": 7,
   "metadata": {
    "ExecuteTime": {
     "end_time": "2020-07-02T08:35:08.151386Z",
     "start_time": "2020-07-02T08:35:08.129707Z"
    }
   },
   "outputs": [],
   "source": [
    "idx_to_iid = {x:y for(y,x) in iid_to_idx.items()}\n",
    "idx_to_tag = {(x - n_items):y for(y,x) in tag_to_idx.items()}"
   ]
  },
  {
   "cell_type": "code",
   "execution_count": 8,
   "metadata": {
    "ExecuteTime": {
     "end_time": "2020-07-02T08:35:15.240016Z",
     "start_time": "2020-07-02T08:35:15.223387Z"
    }
   },
   "outputs": [],
   "source": [
    "del [tr_songs, tr_tags]"
   ]
  },
  {
   "cell_type": "code",
   "execution_count": 48,
   "metadata": {
    "ExecuteTime": {
     "end_time": "2020-06-29T06:12:05.086330Z",
     "start_time": "2020-06-29T06:12:02.832411Z"
    }
   },
   "outputs": [],
   "source": [
    "\"\"\"idx = 0\n",
    "for i, tags in enumerate(tr_tags):\n",
    "    for tag in tags:\n",
    "        if tag not in tag_to_idx:\n",
    "            tag_to_idx[tag] = n_items + idx\n",
    "            idx += 1 # => tags_id 설정\n",
    "    tr[i].extend([tag_to_idx[x] for x in tags]) # tr[i] => 'i'th row의 songs_list + tags_list \n",
    "\n",
    "n_tags = len(tag_to_idx)\"\"\""
   ]
  },
  {
   "cell_type": "code",
   "execution_count": 9,
   "metadata": {
    "ExecuteTime": {
     "end_time": "2020-07-02T08:35:18.962881Z",
     "start_time": "2020-07-02T08:35:18.801274Z"
    }
   },
   "outputs": [],
   "source": [
    "train['fsong_reindex'] = tr\n",
    "val['fsong_reindex'] = val.fsongs.apply(lambda x : [iid_to_idx.get(i) for i in x])"
   ]
  },
  {
   "cell_type": "markdown",
   "metadata": {},
   "source": [
    "### to csr matrix"
   ]
  },
  {
   "cell_type": "code",
   "execution_count": 10,
   "metadata": {
    "ExecuteTime": {
     "end_time": "2020-07-02T08:35:40.502455Z",
     "start_time": "2020-07-02T08:35:38.512919Z"
    }
   },
   "outputs": [
    {
     "name": "stderr",
     "output_type": "stream",
     "text": [
      "115071it [00:00, 126276.46it/s]\n"
     ]
    }
   ],
   "source": [
    "train_songs = train.fsong_reindex.tolist()\n",
    "\n",
    "rows = []\n",
    "cols = []\n",
    "\n",
    "for row, songs_lst in tqdm(enumerate(train_songs)):\n",
    "    for col in songs_lst:\n",
    "        rows.append(row)\n",
    "        cols.append(col)\n",
    "\n",
    "data = np.repeat(1, len(rows))\n",
    "\n",
    "X = csr_matrix((data, (rows, cols)))"
   ]
  },
  {
   "cell_type": "code",
   "execution_count": 11,
   "metadata": {
    "ExecuteTime": {
     "end_time": "2020-07-02T08:35:52.135094Z",
     "start_time": "2020-07-02T08:35:51.944677Z"
    }
   },
   "outputs": [
    {
     "name": "stderr",
     "output_type": "stream",
     "text": [
      "23015it [00:00, 303941.77it/s]\n"
     ]
    }
   ],
   "source": [
    "val_songs = val.fsong_reindex.tolist()\n",
    "\n",
    "rows = []\n",
    "cols = []\n",
    "\n",
    "for row, songs_lst in tqdm(enumerate(val_songs)):\n",
    "    for col in songs_lst:\n",
    "        rows.append(row)\n",
    "        cols.append(col)\n",
    "\n",
    "data = np.repeat(1, len(rows))\n",
    "\n",
    "va_X = csr_matrix((data, (rows, cols)))"
   ]
  },
  {
   "cell_type": "code",
   "execution_count": 12,
   "metadata": {
    "ExecuteTime": {
     "end_time": "2020-07-02T08:35:59.586971Z",
     "start_time": "2020-07-02T08:35:59.581958Z"
    }
   },
   "outputs": [
    {
     "data": {
      "text/plain": [
       "((115071, 64869), (23015, 64869))"
      ]
     },
     "execution_count": 12,
     "metadata": {},
     "output_type": "execute_result"
    }
   ],
   "source": [
    "X.shape, va_X.shape"
   ]
  },
  {
   "cell_type": "code",
   "execution_count": 13,
   "metadata": {
    "ExecuteTime": {
     "end_time": "2020-07-02T08:36:45.436719Z",
     "start_time": "2020-07-02T08:36:08.369276Z"
    }
   },
   "outputs": [],
   "source": [
    "train_X = np.asarray(X[:50000].toarray()).astype('float16')\n",
    "val_X = np.asarray(va_X.toarray()).astype('float16')"
   ]
  },
  {
   "cell_type": "code",
   "execution_count": 21,
   "metadata": {
    "ExecuteTime": {
     "end_time": "2020-07-01T08:41:55.787981Z",
     "start_time": "2020-07-01T08:41:55.756170Z"
    }
   },
   "outputs": [],
   "source": [
    "def AE_model(input_shape=None, enc_dim = None, n = 128):\n",
    "    model = Sequential()\n",
    "    model.add(Input(shape=input_shape, sparse=False))\n",
    "    model.add(Dropout(.75))\n",
    "    model.add(Dense(n, activation=\"relu\"))\n",
    "    model.add(Dense(input_shape[0], activation=\"sigmoid\"))\n",
    "    return model"
   ]
  },
  {
   "cell_type": "code",
   "execution_count": 22,
   "metadata": {
    "ExecuteTime": {
     "end_time": "2020-07-01T08:41:59.260933Z",
     "start_time": "2020-07-01T08:41:59.252933Z"
    }
   },
   "outputs": [],
   "source": [
    "input_shape = train_X[0].shape\n",
    "enc_dim = len(major_song_lst)"
   ]
  },
  {
   "cell_type": "code",
   "execution_count": 23,
   "metadata": {
    "ExecuteTime": {
     "end_time": "2020-07-01T08:42:03.538558Z",
     "start_time": "2020-07-01T08:42:02.697465Z"
    }
   },
   "outputs": [
    {
     "name": "stderr",
     "output_type": "stream",
     "text": [
      "WARNING: Logging before flag parsing goes to stderr.\n",
      "W0701 17:42:03.158991 18924 nn_ops.py:4283] Large dropout rate: 0.75 (>0.5). In TensorFlow 2.x, dropout() uses dropout rate instead of keep_prob. Please ensure that this is intended.\n"
     ]
    }
   ],
   "source": [
    "ae = AE_model(input_shape=input_shape, enc_dim=enc_dim)\n",
    "ae.compile(optimizer='adam', loss = \"mse\")"
   ]
  },
  {
   "cell_type": "code",
   "execution_count": 14,
   "metadata": {
    "ExecuteTime": {
     "end_time": "2020-07-02T08:37:55.360131Z",
     "start_time": "2020-07-02T08:37:54.161644Z"
    }
   },
   "outputs": [
    {
     "name": "stderr",
     "output_type": "stream",
     "text": [
      "WARNING: Logging before flag parsing goes to stderr.\n",
      "W0702 17:37:54.470636  4608 nn_ops.py:4283] Large dropout rate: 0.75 (>0.5). In TensorFlow 2.x, dropout() uses dropout rate instead of keep_prob. Please ensure that this is intended.\n"
     ]
    }
   ],
   "source": [
    "import h5py\n",
    "from tensorflow.keras.models import load_model\n",
    "\n",
    "# ae.save(\"auto_encoder.h5\")\n",
    "ae = load_model(\"auto_encoder.h5\")"
   ]
  },
  {
   "cell_type": "code",
   "execution_count": 22,
   "metadata": {
    "ExecuteTime": {
     "end_time": "2020-07-02T08:28:28.039358Z",
     "start_time": "2020-07-02T08:28:28.033375Z"
    },
    "scrolled": true
   },
   "outputs": [
    {
     "name": "stdout",
     "output_type": "stream",
     "text": [
      "Model: \"sequential\"\n",
      "_________________________________________________________________\n",
      "Layer (type)                 Output Shape              Param #   \n",
      "=================================================================\n",
      "dropout (Dropout)            (None, 64869)             0         \n",
      "_________________________________________________________________\n",
      "dense (Dense)                (None, 128)               8303360   \n",
      "_________________________________________________________________\n",
      "dense_1 (Dense)              (None, 64869)             8368101   \n",
      "=================================================================\n",
      "Total params: 16,671,461\n",
      "Trainable params: 16,671,461\n",
      "Non-trainable params: 0\n",
      "_________________________________________________________________\n"
     ]
    }
   ],
   "source": [
    "ae.summary()"
   ]
  },
  {
   "cell_type": "code",
   "execution_count": 24,
   "metadata": {
    "ExecuteTime": {
     "end_time": "2020-07-01T08:49:44.426451Z",
     "start_time": "2020-07-01T08:42:13.233348Z"
    }
   },
   "outputs": [
    {
     "name": "stderr",
     "output_type": "stream",
     "text": [
      "W0701 17:42:13.401512 18924 nn_ops.py:4283] Large dropout rate: 0.75 (>0.5). In TensorFlow 2.x, dropout() uses dropout rate instead of keep_prob. Please ensure that this is intended.\n"
     ]
    },
    {
     "name": "stdout",
     "output_type": "stream",
     "text": [
      "Train on 50000 samples\n",
      "Epoch 1/5\n"
     ]
    },
    {
     "name": "stderr",
     "output_type": "stream",
     "text": [
      "W0701 17:42:14.198100 18924 nn_ops.py:4283] Large dropout rate: 0.75 (>0.5). In TensorFlow 2.x, dropout() uses dropout rate instead of keep_prob. Please ensure that this is intended.\n"
     ]
    },
    {
     "name": "stdout",
     "output_type": "stream",
     "text": [
      "50000/50000 [==============================] - 91s 2ms/sample - loss: 0.0460\n",
      "Epoch 2/5\n",
      "50000/50000 [==============================] - 89s 2ms/sample - loss: 0.0012\n",
      "Epoch 3/5\n",
      "50000/50000 [==============================] - 90s 2ms/sample - loss: 7.6539e-04\n",
      "Epoch 4/5\n",
      "50000/50000 [==============================] - 90s 2ms/sample - loss: 6.4994e-04\n",
      "Epoch 5/5\n",
      "50000/50000 [==============================] - 90s 2ms/sample - loss: 6.0184e-04\n"
     ]
    },
    {
     "data": {
      "text/plain": [
       "<tensorflow.python.keras.callbacks.History at 0x1a756694240>"
      ]
     },
     "execution_count": 24,
     "metadata": {},
     "output_type": "execute_result"
    }
   ],
   "source": [
    "ae.fit(x = train_X, y = train_X, epochs=5, batch_size=128, verbose= 1)"
   ]
  },
  {
   "cell_type": "code",
   "execution_count": 15,
   "metadata": {
    "ExecuteTime": {
     "end_time": "2020-07-02T08:40:29.067062Z",
     "start_time": "2020-07-02T08:38:03.092069Z"
    }
   },
   "outputs": [
    {
     "name": "stderr",
     "output_type": "stream",
     "text": [
      "W0702 17:38:03.096058  4608 training.py:504] Falling back from v2 loop because of error: Failed to find data adapter that can handle input: <class 'scipy.sparse.csr.csr_matrix'>, <class 'NoneType'>\n"
     ]
    }
   ],
   "source": [
    "val_res = np.argsort(ae.predict(va_X), axis=1)[:, -100:]"
   ]
  },
  {
   "cell_type": "code",
   "execution_count": 18,
   "metadata": {
    "ExecuteTime": {
     "end_time": "2020-07-02T08:41:07.669465Z",
     "start_time": "2020-07-02T08:41:06.846894Z"
    }
   },
   "outputs": [
    {
     "data": {
      "text/html": [
       "<div>\n",
       "<style scoped>\n",
       "    .dataframe tbody tr th:only-of-type {\n",
       "        vertical-align: middle;\n",
       "    }\n",
       "\n",
       "    .dataframe tbody tr th {\n",
       "        vertical-align: top;\n",
       "    }\n",
       "\n",
       "    .dataframe thead th {\n",
       "        text-align: right;\n",
       "    }\n",
       "</style>\n",
       "<table border=\"1\" class=\"dataframe\">\n",
       "  <thead>\n",
       "    <tr style=\"text-align: right;\">\n",
       "      <th></th>\n",
       "      <th>0</th>\n",
       "      <th>1</th>\n",
       "      <th>2</th>\n",
       "      <th>3</th>\n",
       "      <th>4</th>\n",
       "      <th>5</th>\n",
       "      <th>6</th>\n",
       "      <th>7</th>\n",
       "      <th>8</th>\n",
       "      <th>9</th>\n",
       "      <th>...</th>\n",
       "      <th>90</th>\n",
       "      <th>91</th>\n",
       "      <th>92</th>\n",
       "      <th>93</th>\n",
       "      <th>94</th>\n",
       "      <th>95</th>\n",
       "      <th>96</th>\n",
       "      <th>97</th>\n",
       "      <th>98</th>\n",
       "      <th>99</th>\n",
       "    </tr>\n",
       "  </thead>\n",
       "  <tbody>\n",
       "    <tr>\n",
       "      <th>0</th>\n",
       "      <td>6665</td>\n",
       "      <td>2842</td>\n",
       "      <td>2005</td>\n",
       "      <td>3835</td>\n",
       "      <td>14086</td>\n",
       "      <td>4757</td>\n",
       "      <td>19044</td>\n",
       "      <td>4465</td>\n",
       "      <td>2486</td>\n",
       "      <td>22058</td>\n",
       "      <td>...</td>\n",
       "      <td>4389</td>\n",
       "      <td>4390</td>\n",
       "      <td>1441</td>\n",
       "      <td>4387</td>\n",
       "      <td>4382</td>\n",
       "      <td>4384</td>\n",
       "      <td>4383</td>\n",
       "      <td>4385</td>\n",
       "      <td>3947</td>\n",
       "      <td>97</td>\n",
       "    </tr>\n",
       "    <tr>\n",
       "      <th>1</th>\n",
       "      <td>4757</td>\n",
       "      <td>420</td>\n",
       "      <td>2486</td>\n",
       "      <td>6665</td>\n",
       "      <td>11617</td>\n",
       "      <td>6157</td>\n",
       "      <td>14552</td>\n",
       "      <td>5922</td>\n",
       "      <td>198</td>\n",
       "      <td>639</td>\n",
       "      <td>...</td>\n",
       "      <td>9561</td>\n",
       "      <td>4390</td>\n",
       "      <td>1441</td>\n",
       "      <td>4387</td>\n",
       "      <td>4382</td>\n",
       "      <td>4384</td>\n",
       "      <td>4383</td>\n",
       "      <td>4385</td>\n",
       "      <td>3947</td>\n",
       "      <td>97</td>\n",
       "    </tr>\n",
       "    <tr>\n",
       "      <th>2</th>\n",
       "      <td>4757</td>\n",
       "      <td>14552</td>\n",
       "      <td>3812</td>\n",
       "      <td>508</td>\n",
       "      <td>544</td>\n",
       "      <td>3264</td>\n",
       "      <td>2486</td>\n",
       "      <td>5922</td>\n",
       "      <td>639</td>\n",
       "      <td>6157</td>\n",
       "      <td>...</td>\n",
       "      <td>4386</td>\n",
       "      <td>9561</td>\n",
       "      <td>1441</td>\n",
       "      <td>4387</td>\n",
       "      <td>4382</td>\n",
       "      <td>4384</td>\n",
       "      <td>4383</td>\n",
       "      <td>4385</td>\n",
       "      <td>3947</td>\n",
       "      <td>97</td>\n",
       "    </tr>\n",
       "    <tr>\n",
       "      <th>3</th>\n",
       "      <td>9312</td>\n",
       "      <td>508</td>\n",
       "      <td>7096</td>\n",
       "      <td>22058</td>\n",
       "      <td>2842</td>\n",
       "      <td>2656</td>\n",
       "      <td>6665</td>\n",
       "      <td>3813</td>\n",
       "      <td>785</td>\n",
       "      <td>2486</td>\n",
       "      <td>...</td>\n",
       "      <td>4390</td>\n",
       "      <td>9561</td>\n",
       "      <td>4387</td>\n",
       "      <td>1441</td>\n",
       "      <td>4382</td>\n",
       "      <td>4384</td>\n",
       "      <td>4383</td>\n",
       "      <td>4385</td>\n",
       "      <td>3947</td>\n",
       "      <td>97</td>\n",
       "    </tr>\n",
       "    <tr>\n",
       "      <th>4</th>\n",
       "      <td>7756</td>\n",
       "      <td>16772</td>\n",
       "      <td>3812</td>\n",
       "      <td>22058</td>\n",
       "      <td>639</td>\n",
       "      <td>4465</td>\n",
       "      <td>2011</td>\n",
       "      <td>14552</td>\n",
       "      <td>508</td>\n",
       "      <td>198</td>\n",
       "      <td>...</td>\n",
       "      <td>4390</td>\n",
       "      <td>9561</td>\n",
       "      <td>1441</td>\n",
       "      <td>4387</td>\n",
       "      <td>4382</td>\n",
       "      <td>4384</td>\n",
       "      <td>4383</td>\n",
       "      <td>4385</td>\n",
       "      <td>3947</td>\n",
       "      <td>97</td>\n",
       "    </tr>\n",
       "    <tr>\n",
       "      <th>...</th>\n",
       "      <td>...</td>\n",
       "      <td>...</td>\n",
       "      <td>...</td>\n",
       "      <td>...</td>\n",
       "      <td>...</td>\n",
       "      <td>...</td>\n",
       "      <td>...</td>\n",
       "      <td>...</td>\n",
       "      <td>...</td>\n",
       "      <td>...</td>\n",
       "      <td>...</td>\n",
       "      <td>...</td>\n",
       "      <td>...</td>\n",
       "      <td>...</td>\n",
       "      <td>...</td>\n",
       "      <td>...</td>\n",
       "      <td>...</td>\n",
       "      <td>...</td>\n",
       "      <td>...</td>\n",
       "      <td>...</td>\n",
       "      <td>...</td>\n",
       "    </tr>\n",
       "    <tr>\n",
       "      <th>23010</th>\n",
       "      <td>420</td>\n",
       "      <td>5922</td>\n",
       "      <td>19044</td>\n",
       "      <td>5394</td>\n",
       "      <td>937</td>\n",
       "      <td>2486</td>\n",
       "      <td>6665</td>\n",
       "      <td>21705</td>\n",
       "      <td>3835</td>\n",
       "      <td>2842</td>\n",
       "      <td>...</td>\n",
       "      <td>4389</td>\n",
       "      <td>9561</td>\n",
       "      <td>1441</td>\n",
       "      <td>4387</td>\n",
       "      <td>4382</td>\n",
       "      <td>4383</td>\n",
       "      <td>4384</td>\n",
       "      <td>4385</td>\n",
       "      <td>3947</td>\n",
       "      <td>97</td>\n",
       "    </tr>\n",
       "    <tr>\n",
       "      <th>23011</th>\n",
       "      <td>2708</td>\n",
       "      <td>4283</td>\n",
       "      <td>41069</td>\n",
       "      <td>639</td>\n",
       "      <td>4011</td>\n",
       "      <td>6248</td>\n",
       "      <td>5738</td>\n",
       "      <td>53246</td>\n",
       "      <td>937</td>\n",
       "      <td>6991</td>\n",
       "      <td>...</td>\n",
       "      <td>4381</td>\n",
       "      <td>4389</td>\n",
       "      <td>4387</td>\n",
       "      <td>4382</td>\n",
       "      <td>1441</td>\n",
       "      <td>4384</td>\n",
       "      <td>4383</td>\n",
       "      <td>4385</td>\n",
       "      <td>3947</td>\n",
       "      <td>97</td>\n",
       "    </tr>\n",
       "    <tr>\n",
       "      <th>23012</th>\n",
       "      <td>198</td>\n",
       "      <td>5351</td>\n",
       "      <td>14552</td>\n",
       "      <td>937</td>\n",
       "      <td>3812</td>\n",
       "      <td>508</td>\n",
       "      <td>5987</td>\n",
       "      <td>785</td>\n",
       "      <td>708</td>\n",
       "      <td>11617</td>\n",
       "      <td>...</td>\n",
       "      <td>4389</td>\n",
       "      <td>9561</td>\n",
       "      <td>4387</td>\n",
       "      <td>1441</td>\n",
       "      <td>4382</td>\n",
       "      <td>4384</td>\n",
       "      <td>4383</td>\n",
       "      <td>4385</td>\n",
       "      <td>3947</td>\n",
       "      <td>97</td>\n",
       "    </tr>\n",
       "    <tr>\n",
       "      <th>23013</th>\n",
       "      <td>21705</td>\n",
       "      <td>2101</td>\n",
       "      <td>7756</td>\n",
       "      <td>9312</td>\n",
       "      <td>420</td>\n",
       "      <td>14552</td>\n",
       "      <td>2656</td>\n",
       "      <td>2486</td>\n",
       "      <td>5394</td>\n",
       "      <td>6665</td>\n",
       "      <td>...</td>\n",
       "      <td>4389</td>\n",
       "      <td>9561</td>\n",
       "      <td>1441</td>\n",
       "      <td>4387</td>\n",
       "      <td>4382</td>\n",
       "      <td>4384</td>\n",
       "      <td>4383</td>\n",
       "      <td>4385</td>\n",
       "      <td>3947</td>\n",
       "      <td>97</td>\n",
       "    </tr>\n",
       "    <tr>\n",
       "      <th>23014</th>\n",
       "      <td>16772</td>\n",
       "      <td>3835</td>\n",
       "      <td>198</td>\n",
       "      <td>5738</td>\n",
       "      <td>639</td>\n",
       "      <td>785</td>\n",
       "      <td>708</td>\n",
       "      <td>5922</td>\n",
       "      <td>26364</td>\n",
       "      <td>2486</td>\n",
       "      <td>...</td>\n",
       "      <td>9561</td>\n",
       "      <td>4389</td>\n",
       "      <td>1441</td>\n",
       "      <td>4387</td>\n",
       "      <td>4382</td>\n",
       "      <td>4383</td>\n",
       "      <td>4384</td>\n",
       "      <td>4385</td>\n",
       "      <td>3947</td>\n",
       "      <td>97</td>\n",
       "    </tr>\n",
       "  </tbody>\n",
       "</table>\n",
       "<p>23015 rows × 100 columns</p>\n",
       "</div>"
      ],
      "text/plain": [
       "          0      1      2      3      4      5      6      7      8      9   \\\n",
       "0       6665   2842   2005   3835  14086   4757  19044   4465   2486  22058   \n",
       "1       4757    420   2486   6665  11617   6157  14552   5922    198    639   \n",
       "2       4757  14552   3812    508    544   3264   2486   5922    639   6157   \n",
       "3       9312    508   7096  22058   2842   2656   6665   3813    785   2486   \n",
       "4       7756  16772   3812  22058    639   4465   2011  14552    508    198   \n",
       "...      ...    ...    ...    ...    ...    ...    ...    ...    ...    ...   \n",
       "23010    420   5922  19044   5394    937   2486   6665  21705   3835   2842   \n",
       "23011   2708   4283  41069    639   4011   6248   5738  53246    937   6991   \n",
       "23012    198   5351  14552    937   3812    508   5987    785    708  11617   \n",
       "23013  21705   2101   7756   9312    420  14552   2656   2486   5394   6665   \n",
       "23014  16772   3835    198   5738    639    785    708   5922  26364   2486   \n",
       "\n",
       "       ...    90    91    92    93    94    95    96    97    98  99  \n",
       "0      ...  4389  4390  1441  4387  4382  4384  4383  4385  3947  97  \n",
       "1      ...  9561  4390  1441  4387  4382  4384  4383  4385  3947  97  \n",
       "2      ...  4386  9561  1441  4387  4382  4384  4383  4385  3947  97  \n",
       "3      ...  4390  9561  4387  1441  4382  4384  4383  4385  3947  97  \n",
       "4      ...  4390  9561  1441  4387  4382  4384  4383  4385  3947  97  \n",
       "...    ...   ...   ...   ...   ...   ...   ...   ...   ...   ...  ..  \n",
       "23010  ...  4389  9561  1441  4387  4382  4383  4384  4385  3947  97  \n",
       "23011  ...  4381  4389  4387  4382  1441  4384  4383  4385  3947  97  \n",
       "23012  ...  4389  9561  4387  1441  4382  4384  4383  4385  3947  97  \n",
       "23013  ...  4389  9561  1441  4387  4382  4384  4383  4385  3947  97  \n",
       "23014  ...  9561  4389  1441  4387  4382  4383  4384  4385  3947  97  \n",
       "\n",
       "[23015 rows x 100 columns]"
      ]
     },
     "execution_count": 18,
     "metadata": {},
     "output_type": "execute_result"
    }
   ],
   "source": [
    "pd.DataFrame(val_res)"
   ]
  },
  {
   "cell_type": "code",
   "execution_count": 17,
   "metadata": {
    "ExecuteTime": {
     "end_time": "2020-07-02T08:40:45.736148Z",
     "start_time": "2020-07-02T08:40:45.729121Z"
    }
   },
   "outputs": [
    {
     "data": {
      "text/plain": [
       "(23015, 100)"
      ]
     },
     "execution_count": 17,
     "metadata": {},
     "output_type": "execute_result"
    }
   ],
   "source": [
    "val_res.shape"
   ]
  },
  {
   "cell_type": "code",
   "execution_count": 37,
   "metadata": {
    "ExecuteTime": {
     "end_time": "2020-06-29T08:14:17.476169Z",
     "start_time": "2020-06-29T08:14:17.473175Z"
    }
   },
   "outputs": [],
   "source": [
    "from sklearn.metrics import mean_squared_error"
   ]
  },
  {
   "cell_type": "code",
   "execution_count": 39,
   "metadata": {
    "ExecuteTime": {
     "end_time": "2020-06-29T08:14:54.694055Z",
     "start_time": "2020-06-29T08:14:54.691031Z"
    }
   },
   "outputs": [],
   "source": [
    "mse = mean_squared_error"
   ]
  },
  {
   "cell_type": "code",
   "execution_count": null,
   "metadata": {},
   "outputs": [],
   "source": []
  },
  {
   "cell_type": "markdown",
   "metadata": {},
   "source": [
    "### csr matrix"
   ]
  },
  {
   "cell_type": "code",
   "execution_count": 7,
   "metadata": {
    "ExecuteTime": {
     "end_time": "2020-06-23T06:56:09.044393Z",
     "start_time": "2020-06-23T06:56:07.832485Z"
    }
   },
   "outputs": [
    {
     "name": "stderr",
     "output_type": "stream",
     "text": [
      "115071it [00:01, 97580.19it/s]\n"
     ]
    }
   ],
   "source": [
    "train_songs = train.songs.tolist()\n",
    "\n",
    "rows = []\n",
    "cols = []\n",
    "\n",
    "for row, songs_lst in tqdm(enumerate(train_songs)):\n",
    "    for col in songs_lst:\n",
    "        rows.append(row)\n",
    "        cols.append(col)\n",
    "\n",
    "data = np.repeat(1, len(rows))"
   ]
  },
  {
   "cell_type": "code",
   "execution_count": 8,
   "metadata": {
    "ExecuteTime": {
     "end_time": "2020-06-23T06:56:13.414623Z",
     "start_time": "2020-06-23T06:56:12.010680Z"
    }
   },
   "outputs": [],
   "source": [
    "X = csr_matrix((data, (rows, cols)))"
   ]
  },
  {
   "cell_type": "markdown",
   "metadata": {},
   "source": [
    "### eda"
   ]
  },
  {
   "cell_type": "code",
   "execution_count": 9,
   "metadata": {
    "ExecuteTime": {
     "end_time": "2020-06-16T07:58:09.905325Z",
     "start_time": "2020-06-16T07:58:09.375955Z"
    }
   },
   "outputs": [],
   "source": [
    "tmp_df = pd.DataFrame(\n",
    "    np.dstack(\n",
    "        (\n",
    "            np.concatenate(train.songs.values),\n",
    "            np.repeat(train.id.values, list(map(len,train.songs.values)))\n",
    "        )\n",
    "    )[0], columns = [\"song_id\", \"plylst_id\"]\n",
    ")"
   ]
  },
  {
   "cell_type": "code",
   "execution_count": 126,
   "metadata": {
    "ExecuteTime": {
     "end_time": "2020-06-16T10:33:41.758953Z",
     "start_time": "2020-06-16T10:33:41.439063Z"
    }
   },
   "outputs": [],
   "source": [
    "uniq_song_in_plylst = tmp_df[[\"song_id\"]].drop_duplicates(\"song_id\", keep = \"first\")"
   ]
  },
  {
   "cell_type": "code",
   "execution_count": 131,
   "metadata": {
    "ExecuteTime": {
     "end_time": "2020-06-16T10:34:51.581239Z",
     "start_time": "2020-06-16T10:34:50.001989Z"
    }
   },
   "outputs": [],
   "source": [
    "uniq_song_in_plylst[\"cnt_in_plylst\"] = uniq_song_in_plylst.song_id.map(tmp_df.groupby(\"song_id\").size().to_dict())"
   ]
  },
  {
   "cell_type": "code",
   "execution_count": 134,
   "metadata": {
    "ExecuteTime": {
     "end_time": "2020-06-16T10:35:34.780774Z",
     "start_time": "2020-06-16T10:35:34.731555Z"
    }
   },
   "outputs": [
    {
     "data": {
      "text/plain": [
       "count    316114.000000\n",
       "mean         15.775458\n",
       "std          54.104228\n",
       "min           2.000000\n",
       "25%           2.000000\n",
       "50%           4.000000\n",
       "75%          10.000000\n",
       "max        2175.000000\n",
       "Name: cnt_in_plylst, dtype: float64"
      ]
     },
     "execution_count": 134,
     "metadata": {},
     "output_type": "execute_result"
    }
   ],
   "source": [
    "uniq_song_in_plylst.loc[uniq_song_in_plylst.cnt_in_plylst > 1].cnt_in_plylst.describe()"
   ]
  },
  {
   "cell_type": "code",
   "execution_count": null,
   "metadata": {},
   "outputs": [],
   "source": [
    "###"
   ]
  },
  {
   "cell_type": "code",
   "execution_count": null,
   "metadata": {},
   "outputs": [],
   "source": []
  },
  {
   "cell_type": "code",
   "execution_count": 139,
   "metadata": {
    "ExecuteTime": {
     "end_time": "2020-06-16T10:40:56.261032Z",
     "start_time": "2020-06-16T10:40:56.253041Z"
    }
   },
   "outputs": [],
   "source": [
    "total_songs = song_meta.shape[0]\n",
    "total_plylsts = train.shape[0]\n",
    "mean_songs_in_plylst = train.songs.apply(lambda x: len(x)).sum() / total_plylsts"
   ]
  },
  {
   "cell_type": "code",
   "execution_count": null,
   "metadata": {},
   "outputs": [],
   "source": []
  },
  {
   "cell_type": "code",
   "execution_count": 121,
   "metadata": {
    "ExecuteTime": {
     "end_time": "2020-06-16T10:32:44.802070Z",
     "start_time": "2020-06-16T10:32:44.423481Z"
    }
   },
   "outputs": [
    {
     "data": {
      "text/plain": [
       "array([False, False, False, ..., False,  True,  True])"
      ]
     },
     "execution_count": 121,
     "metadata": {},
     "output_type": "execute_result"
    }
   ],
   "source": [
    "(tmp_df.groupby(\"song_id\").size() == 1).values"
   ]
  },
  {
   "cell_type": "code",
   "execution_count": null,
   "metadata": {},
   "outputs": [],
   "source": []
  },
  {
   "cell_type": "code",
   "execution_count": 17,
   "metadata": {
    "ExecuteTime": {
     "end_time": "2020-06-16T08:01:19.677665Z",
     "start_time": "2020-06-16T08:01:19.673582Z"
    }
   },
   "outputs": [],
   "source": [
    "### 장르별 수록곡 수"
   ]
  },
  {
   "cell_type": "code",
   "execution_count": 47,
   "metadata": {
    "ExecuteTime": {
     "end_time": "2020-06-16T08:21:01.303598Z",
     "start_time": "2020-06-16T08:20:59.621242Z"
    }
   },
   "outputs": [],
   "source": [
    "gnr_song_cnt = np.dstack(\n",
    "    (\n",
    "        np.concatenate(song_meta.song_gn_gnr_basket.values),\n",
    "        np.repeat(song_meta.id, list(map(len, song_meta.song_gn_gnr_basket.values)))\n",
    "    )\n",
    ")"
   ]
  },
  {
   "cell_type": "code",
   "execution_count": 48,
   "metadata": {
    "ExecuteTime": {
     "end_time": "2020-06-16T08:21:01.545609Z",
     "start_time": "2020-06-16T08:21:01.341677Z"
    }
   },
   "outputs": [],
   "source": [
    "gnr_song_cnt = pd.DataFrame(gnr_song_cnt[0], columns = [\"gnr_code\", \"song_id\"])"
   ]
  },
  {
   "cell_type": "code",
   "execution_count": 60,
   "metadata": {
    "ExecuteTime": {
     "end_time": "2020-06-16T08:24:02.689320Z",
     "start_time": "2020-06-16T08:24:02.590005Z"
    }
   },
   "outputs": [],
   "source": [
    "gnr_song_cnt[\"song_id\"] = gnr_song_cnt[\"song_id\"].astype(int)"
   ]
  },
  {
   "cell_type": "code",
   "execution_count": 96,
   "metadata": {
    "ExecuteTime": {
     "end_time": "2020-06-16T09:31:28.058249Z",
     "start_time": "2020-06-16T09:31:27.367678Z"
    }
   },
   "outputs": [],
   "source": [
    "tmp_cnt = gnr_song_cnt.merge(\n",
    "    tmp_df.groupby(\"song_id\").size().reset_index(name=\"cnt_in_plylst\"),\n",
    "    how = \"left\"\n",
    ").fillna(0)"
   ]
  },
  {
   "cell_type": "code",
   "execution_count": 110,
   "metadata": {
    "ExecuteTime": {
     "end_time": "2020-06-16T09:34:52.754708Z",
     "start_time": "2020-06-16T09:34:52.746721Z"
    }
   },
   "outputs": [],
   "source": [
    "tmp_cnt.rename(columns = {\"song_id\" : \"song_cnt\"}, inplace=True)"
   ]
  },
  {
   "cell_type": "code",
   "execution_count": null,
   "metadata": {
    "ExecuteTime": {
     "end_time": "2020-06-16T09:31:38.116146Z",
     "start_time": "2020-06-16T09:31:38.053780Z"
    }
   },
   "outputs": [],
   "source": [
    "tmp_cnt = tmp_cnt.groupby(\"gnr_code\").aggregate({\"song_id\" : \"count\", \"cnt_in_plylst\" : \"sum\"})\n",
    "tmp_cnt[\"mean_cnt_in_plylst\"] = tmp_cnt.cnt_in_plylst / train.shape[0]\n",
    "tmp_cnt.reset_index(inplace=True)\n",
    "tmp_cnt['gnr_name'] = tmp_cnt.gnr_code.map(genre_gn_all.to_dict())"
   ]
  },
  {
   "cell_type": "code",
   "execution_count": 113,
   "metadata": {
    "ExecuteTime": {
     "end_time": "2020-06-16T09:36:15.579094Z",
     "start_time": "2020-06-16T09:36:15.571112Z"
    }
   },
   "outputs": [],
   "source": [
    "tmp_cnt[\"mean_cnt_in_plylst_2\"] = tmp_cnt.cnt_in_plylst / tmp_cnt.song_cnt # 수록곡 대비 playlist내의 선호도"
   ]
  },
  {
   "cell_type": "code",
   "execution_count": 118,
   "metadata": {
    "ExecuteTime": {
     "end_time": "2020-06-16T10:14:13.073362Z",
     "start_time": "2020-06-16T10:14:13.060870Z"
    }
   },
   "outputs": [
    {
     "data": {
      "text/html": [
       "<div>\n",
       "<style scoped>\n",
       "    .dataframe tbody tr th:only-of-type {\n",
       "        vertical-align: middle;\n",
       "    }\n",
       "\n",
       "    .dataframe tbody tr th {\n",
       "        vertical-align: top;\n",
       "    }\n",
       "\n",
       "    .dataframe thead th {\n",
       "        text-align: right;\n",
       "    }\n",
       "</style>\n",
       "<table border=\"1\" class=\"dataframe\">\n",
       "  <thead>\n",
       "    <tr style=\"text-align: right;\">\n",
       "      <th></th>\n",
       "      <th>gnr_code</th>\n",
       "      <th>song_cnt</th>\n",
       "      <th>cnt_in_plylst</th>\n",
       "      <th>mean_cnt_in_plylst</th>\n",
       "      <th>gnr_name</th>\n",
       "      <th>mean_cnt_in_plylst_2</th>\n",
       "    </tr>\n",
       "  </thead>\n",
       "  <tbody>\n",
       "    <tr>\n",
       "      <th>0</th>\n",
       "      <td>GN0100</td>\n",
       "      <td>56820</td>\n",
       "      <td>1194574.0</td>\n",
       "      <td>10.381191</td>\n",
       "      <td>발라드</td>\n",
       "      <td>21.023830</td>\n",
       "    </tr>\n",
       "    <tr>\n",
       "      <th>1</th>\n",
       "      <td>GN0200</td>\n",
       "      <td>19017</td>\n",
       "      <td>438447.0</td>\n",
       "      <td>3.810230</td>\n",
       "      <td>댄스</td>\n",
       "      <td>23.055529</td>\n",
       "    </tr>\n",
       "    <tr>\n",
       "      <th>2</th>\n",
       "      <td>GN0300</td>\n",
       "      <td>27784</td>\n",
       "      <td>464016.0</td>\n",
       "      <td>4.032432</td>\n",
       "      <td>랩/힙합</td>\n",
       "      <td>16.700835</td>\n",
       "    </tr>\n",
       "    <tr>\n",
       "      <th>3</th>\n",
       "      <td>GN0400</td>\n",
       "      <td>14476</td>\n",
       "      <td>348061.0</td>\n",
       "      <td>3.024750</td>\n",
       "      <td>R&amp;B/Soul</td>\n",
       "      <td>24.044004</td>\n",
       "    </tr>\n",
       "    <tr>\n",
       "      <th>4</th>\n",
       "      <td>GN0500</td>\n",
       "      <td>42468</td>\n",
       "      <td>546943.0</td>\n",
       "      <td>4.753092</td>\n",
       "      <td>인디음악</td>\n",
       "      <td>12.878944</td>\n",
       "    </tr>\n",
       "  </tbody>\n",
       "</table>\n",
       "</div>"
      ],
      "text/plain": [
       "  gnr_code  song_cnt  cnt_in_plylst  mean_cnt_in_plylst  gnr_name  \\\n",
       "0   GN0100     56820      1194574.0           10.381191       발라드   \n",
       "1   GN0200     19017       438447.0            3.810230        댄스   \n",
       "2   GN0300     27784       464016.0            4.032432      랩/힙합   \n",
       "3   GN0400     14476       348061.0            3.024750  R&B/Soul   \n",
       "4   GN0500     42468       546943.0            4.753092      인디음악   \n",
       "\n",
       "   mean_cnt_in_plylst_2  \n",
       "0             21.023830  \n",
       "1             23.055529  \n",
       "2             16.700835  \n",
       "3             24.044004  \n",
       "4             12.878944  "
      ]
     },
     "execution_count": 118,
     "metadata": {},
     "output_type": "execute_result"
    }
   ],
   "source": [
    "tmp_cnt.head()"
   ]
  },
  {
   "cell_type": "code",
   "execution_count": 117,
   "metadata": {
    "ExecuteTime": {
     "end_time": "2020-06-16T09:38:25.703168Z",
     "start_time": "2020-06-16T09:38:25.691046Z"
    }
   },
   "outputs": [
    {
     "data": {
      "text/html": [
       "<table><tr style=\"background-color:white;\"><td><div>\n",
       "<style scoped>\n",
       "    .dataframe tbody tr th:only-of-type {\n",
       "        vertical-align: middle;\n",
       "    }\n",
       "\n",
       "    .dataframe tbody tr th {\n",
       "        vertical-align: top;\n",
       "    }\n",
       "\n",
       "    .dataframe thead th {\n",
       "        text-align: right;\n",
       "    }\n",
       "</style>\n",
       "<table border=\"1\" class=\"dataframe\">\n",
       "  <thead>\n",
       "    <tr style=\"text-align: right;\">\n",
       "      <th></th>\n",
       "      <th>gnr_name</th>\n",
       "      <th>mean_cnt_in_plylst</th>\n",
       "    </tr>\n",
       "  </thead>\n",
       "  <tbody>\n",
       "    <tr>\n",
       "      <th>0</th>\n",
       "      <td>발라드</td>\n",
       "      <td>10.381191</td>\n",
       "    </tr>\n",
       "    <tr>\n",
       "      <th>4</th>\n",
       "      <td>인디음악</td>\n",
       "      <td>4.753092</td>\n",
       "    </tr>\n",
       "    <tr>\n",
       "      <th>8</th>\n",
       "      <td>POP</td>\n",
       "      <td>4.410112</td>\n",
       "    </tr>\n",
       "    <tr>\n",
       "      <th>24</th>\n",
       "      <td>아이돌</td>\n",
       "      <td>4.321375</td>\n",
       "    </tr>\n",
       "    <tr>\n",
       "      <th>2</th>\n",
       "      <td>랩/힙합</td>\n",
       "      <td>4.032432</td>\n",
       "    </tr>\n",
       "    <tr>\n",
       "      <th>1</th>\n",
       "      <td>댄스</td>\n",
       "      <td>3.810230</td>\n",
       "    </tr>\n",
       "    <tr>\n",
       "      <th>14</th>\n",
       "      <td>OST</td>\n",
       "      <td>3.302552</td>\n",
       "    </tr>\n",
       "    <tr>\n",
       "      <th>3</th>\n",
       "      <td>R&amp;B/Soul</td>\n",
       "      <td>3.024750</td>\n",
       "    </tr>\n",
       "    <tr>\n",
       "      <th>5</th>\n",
       "      <td>록/메탈</td>\n",
       "      <td>2.869237</td>\n",
       "    </tr>\n",
       "    <tr>\n",
       "      <th>10</th>\n",
       "      <td>일렉트로니카</td>\n",
       "      <td>2.829931</td>\n",
       "    </tr>\n",
       "    <tr>\n",
       "      <th>9</th>\n",
       "      <td>록/메탈</td>\n",
       "      <td>2.181288</td>\n",
       "    </tr>\n",
       "    <tr>\n",
       "      <th>7</th>\n",
       "      <td>포크/블루스</td>\n",
       "      <td>1.999383</td>\n",
       "    </tr>\n",
       "    <tr>\n",
       "      <th>12</th>\n",
       "      <td>R&amp;B/Soul</td>\n",
       "      <td>1.945243</td>\n",
       "    </tr>\n",
       "    <tr>\n",
       "      <th>17</th>\n",
       "      <td>뉴에이지</td>\n",
       "      <td>1.848502</td>\n",
       "    </tr>\n",
       "    <tr>\n",
       "      <th>11</th>\n",
       "      <td>랩/힙합</td>\n",
       "      <td>1.751075</td>\n",
       "    </tr>\n",
       "    <tr>\n",
       "      <th>16</th>\n",
       "      <td>재즈</td>\n",
       "      <td>1.276638</td>\n",
       "    </tr>\n",
       "    <tr>\n",
       "      <th>26</th>\n",
       "      <td>EDM</td>\n",
       "      <td>0.989215</td>\n",
       "    </tr>\n",
       "    <tr>\n",
       "      <th>15</th>\n",
       "      <td>클래식</td>\n",
       "      <td>0.884106</td>\n",
       "    </tr>\n",
       "    <tr>\n",
       "      <th>18</th>\n",
       "      <td>J-POP</td>\n",
       "      <td>0.546228</td>\n",
       "    </tr>\n",
       "    <tr>\n",
       "      <th>25</th>\n",
       "      <td>일렉트로니카</td>\n",
       "      <td>0.449218</td>\n",
       "    </tr>\n",
       "    <tr>\n",
       "      <th>13</th>\n",
       "      <td>포크/블루스/컨트리</td>\n",
       "      <td>0.408835</td>\n",
       "    </tr>\n",
       "    <tr>\n",
       "      <th>21</th>\n",
       "      <td>어린이/태교</td>\n",
       "      <td>0.380774</td>\n",
       "    </tr>\n",
       "    <tr>\n",
       "      <th>20</th>\n",
       "      <td>CCM</td>\n",
       "      <td>0.344996</td>\n",
       "    </tr>\n",
       "    <tr>\n",
       "      <th>6</th>\n",
       "      <td>성인가요</td>\n",
       "      <td>0.335654</td>\n",
       "    </tr>\n",
       "    <tr>\n",
       "      <th>19</th>\n",
       "      <td>월드뮤직</td>\n",
       "      <td>0.168983</td>\n",
       "    </tr>\n",
       "    <tr>\n",
       "      <th>29</th>\n",
       "      <td>NaN</td>\n",
       "      <td>0.042600</td>\n",
       "    </tr>\n",
       "    <tr>\n",
       "      <th>28</th>\n",
       "      <td>뮤지컬</td>\n",
       "      <td>0.037942</td>\n",
       "    </tr>\n",
       "    <tr>\n",
       "      <th>27</th>\n",
       "      <td>뮤직테라피</td>\n",
       "      <td>0.029573</td>\n",
       "    </tr>\n",
       "    <tr>\n",
       "      <th>23</th>\n",
       "      <td>국악</td>\n",
       "      <td>0.029191</td>\n",
       "    </tr>\n",
       "    <tr>\n",
       "      <th>22</th>\n",
       "      <td>종교음악</td>\n",
       "      <td>0.009307</td>\n",
       "    </tr>\n",
       "  </tbody>\n",
       "</table>\n",
       "</div></td><td><div>\n",
       "<style scoped>\n",
       "    .dataframe tbody tr th:only-of-type {\n",
       "        vertical-align: middle;\n",
       "    }\n",
       "\n",
       "    .dataframe tbody tr th {\n",
       "        vertical-align: top;\n",
       "    }\n",
       "\n",
       "    .dataframe thead th {\n",
       "        text-align: right;\n",
       "    }\n",
       "</style>\n",
       "<table border=\"1\" class=\"dataframe\">\n",
       "  <thead>\n",
       "    <tr style=\"text-align: right;\">\n",
       "      <th></th>\n",
       "      <th>gnr_name</th>\n",
       "      <th>mean_cnt_in_plylst_2</th>\n",
       "    </tr>\n",
       "  </thead>\n",
       "  <tbody>\n",
       "    <tr>\n",
       "      <th>24</th>\n",
       "      <td>아이돌</td>\n",
       "      <td>41.212084</td>\n",
       "    </tr>\n",
       "    <tr>\n",
       "      <th>3</th>\n",
       "      <td>R&amp;B/Soul</td>\n",
       "      <td>24.044004</td>\n",
       "    </tr>\n",
       "    <tr>\n",
       "      <th>1</th>\n",
       "      <td>댄스</td>\n",
       "      <td>23.055529</td>\n",
       "    </tr>\n",
       "    <tr>\n",
       "      <th>0</th>\n",
       "      <td>발라드</td>\n",
       "      <td>21.023830</td>\n",
       "    </tr>\n",
       "    <tr>\n",
       "      <th>2</th>\n",
       "      <td>랩/힙합</td>\n",
       "      <td>16.700835</td>\n",
       "    </tr>\n",
       "    <tr>\n",
       "      <th>7</th>\n",
       "      <td>포크/블루스</td>\n",
       "      <td>15.133263</td>\n",
       "    </tr>\n",
       "    <tr>\n",
       "      <th>4</th>\n",
       "      <td>인디음악</td>\n",
       "      <td>12.878944</td>\n",
       "    </tr>\n",
       "    <tr>\n",
       "      <th>5</th>\n",
       "      <td>록/메탈</td>\n",
       "      <td>11.120445</td>\n",
       "    </tr>\n",
       "    <tr>\n",
       "      <th>26</th>\n",
       "      <td>EDM</td>\n",
       "      <td>9.950175</td>\n",
       "    </tr>\n",
       "    <tr>\n",
       "      <th>14</th>\n",
       "      <td>OST</td>\n",
       "      <td>8.583936</td>\n",
       "    </tr>\n",
       "    <tr>\n",
       "      <th>25</th>\n",
       "      <td>일렉트로니카</td>\n",
       "      <td>8.076875</td>\n",
       "    </tr>\n",
       "    <tr>\n",
       "      <th>12</th>\n",
       "      <td>R&amp;B/Soul</td>\n",
       "      <td>6.827751</td>\n",
       "    </tr>\n",
       "    <tr>\n",
       "      <th>8</th>\n",
       "      <td>POP</td>\n",
       "      <td>6.581964</td>\n",
       "    </tr>\n",
       "    <tr>\n",
       "      <th>11</th>\n",
       "      <td>랩/힙합</td>\n",
       "      <td>5.695896</td>\n",
       "    </tr>\n",
       "    <tr>\n",
       "      <th>10</th>\n",
       "      <td>일렉트로니카</td>\n",
       "      <td>5.414389</td>\n",
       "    </tr>\n",
       "    <tr>\n",
       "      <th>17</th>\n",
       "      <td>뉴에이지</td>\n",
       "      <td>5.003152</td>\n",
       "    </tr>\n",
       "    <tr>\n",
       "      <th>9</th>\n",
       "      <td>록/메탈</td>\n",
       "      <td>3.926462</td>\n",
       "    </tr>\n",
       "    <tr>\n",
       "      <th>13</th>\n",
       "      <td>포크/블루스/컨트리</td>\n",
       "      <td>3.520015</td>\n",
       "    </tr>\n",
       "    <tr>\n",
       "      <th>16</th>\n",
       "      <td>재즈</td>\n",
       "      <td>3.047864</td>\n",
       "    </tr>\n",
       "    <tr>\n",
       "      <th>6</th>\n",
       "      <td>성인가요</td>\n",
       "      <td>3.047739</td>\n",
       "    </tr>\n",
       "    <tr>\n",
       "      <th>18</th>\n",
       "      <td>J-POP</td>\n",
       "      <td>2.935366</td>\n",
       "    </tr>\n",
       "    <tr>\n",
       "      <th>29</th>\n",
       "      <td>NaN</td>\n",
       "      <td>2.672846</td>\n",
       "    </tr>\n",
       "    <tr>\n",
       "      <th>21</th>\n",
       "      <td>어린이/태교</td>\n",
       "      <td>2.622770</td>\n",
       "    </tr>\n",
       "    <tr>\n",
       "      <th>28</th>\n",
       "      <td>뮤지컬</td>\n",
       "      <td>2.490588</td>\n",
       "    </tr>\n",
       "    <tr>\n",
       "      <th>20</th>\n",
       "      <td>CCM</td>\n",
       "      <td>1.984752</td>\n",
       "    </tr>\n",
       "    <tr>\n",
       "      <th>27</th>\n",
       "      <td>뮤직테라피</td>\n",
       "      <td>1.908581</td>\n",
       "    </tr>\n",
       "    <tr>\n",
       "      <th>15</th>\n",
       "      <td>클래식</td>\n",
       "      <td>1.782760</td>\n",
       "    </tr>\n",
       "    <tr>\n",
       "      <th>23</th>\n",
       "      <td>국악</td>\n",
       "      <td>1.507630</td>\n",
       "    </tr>\n",
       "    <tr>\n",
       "      <th>19</th>\n",
       "      <td>월드뮤직</td>\n",
       "      <td>1.471100</td>\n",
       "    </tr>\n",
       "    <tr>\n",
       "      <th>22</th>\n",
       "      <td>종교음악</td>\n",
       "      <td>0.941953</td>\n",
       "    </tr>\n",
       "  </tbody>\n",
       "</table>\n",
       "</div></td></tr></table>"
      ],
      "text/plain": [
       "<IPython.core.display.HTML object>"
      ]
     },
     "execution_count": 117,
     "metadata": {},
     "output_type": "execute_result"
    }
   ],
   "source": [
    "multi_table(\n",
    "    [tmp_cnt.loc[:, [\"gnr_name\", \"mean_cnt_in_plylst\"]].sort_values( by = \"mean_cnt_in_plylst\", ascending = False),\n",
    "     tmp_cnt.loc[:, [\"gnr_name\", \"mean_cnt_in_plylst_2\"]].sort_values( by = \"mean_cnt_in_plylst_2\", ascending = False)]\n",
    ")\n",
    "# "
   ]
  },
  {
   "cell_type": "markdown",
   "metadata": {},
   "source": [
    "### Matrix Factorization"
   ]
  },
  {
   "cell_type": "code",
   "execution_count": 9,
   "metadata": {
    "ExecuteTime": {
     "end_time": "2020-06-23T06:56:20.305892Z",
     "start_time": "2020-06-23T06:56:20.297639Z"
    }
   },
   "outputs": [
    {
     "data": {
      "text/plain": [
       "(115071, 707989)"
      ]
     },
     "execution_count": 9,
     "metadata": {},
     "output_type": "execute_result"
    }
   ],
   "source": [
    "X.shape"
   ]
  },
  {
   "cell_type": "code",
   "execution_count": 211,
   "metadata": {
    "ExecuteTime": {
     "end_time": "2020-06-19T10:27:39.982666Z",
     "start_time": "2020-06-19T10:27:39.974625Z"
    }
   },
   "outputs": [],
   "source": [
    "from implicit.als import AlternatingLeastSquares as ALS"
   ]
  },
  {
   "cell_type": "code",
   "execution_count": 212,
   "metadata": {
    "ExecuteTime": {
     "end_time": "2020-06-19T10:28:50.166720Z",
     "start_time": "2020-06-19T10:28:50.150537Z"
    }
   },
   "outputs": [
    {
     "name": "stderr",
     "output_type": "stream",
     "text": [
      "WARNING: Logging before flag parsing goes to stderr.\n",
      "W0619 19:28:50.150537 13952 utils.py:26] OpenBLAS detected. Its highly recommend to set the environment variable 'export OPENBLAS_NUM_THREADS=1' to disable its internal multithreading\n"
     ]
    }
   ],
   "source": [
    "als_model = ALS(factors=64, regularization=0.001, iterations=20)"
   ]
  },
  {
   "cell_type": "code",
   "execution_count": 213,
   "metadata": {
    "ExecuteTime": {
     "end_time": "2020-06-19T10:40:03.681067Z",
     "start_time": "2020-06-19T10:29:47.142217Z"
    }
   },
   "outputs": [
    {
     "data": {
      "application/vnd.jupyter.widget-view+json": {
       "model_id": "711dee0b743e490e82c143280967b2e8",
       "version_major": 2,
       "version_minor": 0
      },
      "text/plain": [
       "HBox(children=(IntProgress(value=0, max=20), HTML(value='')))"
      ]
     },
     "metadata": {},
     "output_type": "display_data"
    },
    {
     "name": "stdout",
     "output_type": "stream",
     "text": [
      "\n"
     ]
    }
   ],
   "source": [
    "als_model.fit(X)"
   ]
  },
  {
   "cell_type": "code",
   "execution_count": 225,
   "metadata": {
    "ExecuteTime": {
     "end_time": "2020-06-19T11:08:49.069533Z",
     "start_time": "2020-06-19T11:08:49.037733Z"
    }
   },
   "outputs": [
    {
     "data": {
      "text/plain": [
       "array([ 1.8191078e-06,  0.0000000e+00,  0.0000000e+00, ...,\n",
       "       -1.1320270e-06,  1.7471382e-07,  1.7454251e-08], dtype=float32)"
      ]
     },
     "execution_count": 225,
     "metadata": {},
     "output_type": "execute_result"
    }
   ],
   "source": [
    "np.dot(als_model.item_factors[0, :] , als_model.user_factors.T)"
   ]
  },
  {
   "cell_type": "code",
   "execution_count": 233,
   "metadata": {
    "ExecuteTime": {
     "end_time": "2020-06-19T11:11:06.184788Z",
     "start_time": "2020-06-19T11:11:06.152948Z"
    }
   },
   "outputs": [
    {
     "data": {
      "text/plain": [
       "0.0038509155"
      ]
     },
     "execution_count": 233,
     "metadata": {},
     "output_type": "execute_result"
    }
   ],
   "source": [
    "np.dot(als_model.item_factors[0, :] , als_model.user_factors.T)[np.argmax(np.dot(als_model.item_factors[0, :] , als_model.user_factors.T), axis=0)]"
   ]
  },
  {
   "cell_type": "code",
   "execution_count": 232,
   "metadata": {
    "ExecuteTime": {
     "end_time": "2020-06-19T11:10:34.129349Z",
     "start_time": "2020-06-19T11:10:34.113294Z"
    }
   },
   "outputs": [
    {
     "data": {
      "text/plain": [
       "177460"
      ]
     },
     "execution_count": 232,
     "metadata": {},
     "output_type": "execute_result"
    }
   ],
   "source": [
    "np.argmax(np.dot(als_model.item_factors[0, :] , als_model.user_factors.T), axis=0)"
   ]
  },
  {
   "cell_type": "code",
   "execution_count": 236,
   "metadata": {
    "ExecuteTime": {
     "end_time": "2020-06-20T08:50:17.956716Z",
     "start_time": "2020-06-20T08:50:17.948690Z"
    }
   },
   "outputs": [],
   "source": [
    "def predicted_plylst(plylst_id, als_model):\n",
    "    return np.dot(als_model.item_factors[plylst_id, :] , als_model.user_factors.T)"
   ]
  },
  {
   "cell_type": "code",
   "execution_count": 237,
   "metadata": {
    "ExecuteTime": {
     "end_time": "2020-06-20T08:50:32.119438Z",
     "start_time": "2020-06-20T08:50:32.095626Z"
    }
   },
   "outputs": [
    {
     "data": {
      "text/plain": [
       "array([ 1.8191078e-06,  0.0000000e+00,  0.0000000e+00, ...,\n",
       "       -1.1320270e-06,  1.7471382e-07,  1.7454251e-08], dtype=float32)"
      ]
     },
     "execution_count": 237,
     "metadata": {},
     "output_type": "execute_result"
    }
   ],
   "source": [
    "predicted_plylst(0, als_model)"
   ]
  },
  {
   "cell_type": "code",
   "execution_count": null,
   "metadata": {},
   "outputs": [],
   "source": [
    "als_model.item_factors[:10, :]"
   ]
  },
  {
   "cell_type": "code",
   "execution_count": 255,
   "metadata": {
    "ExecuteTime": {
     "end_time": "2020-06-20T09:30:56.776578Z",
     "start_time": "2020-06-20T09:30:55.125017Z"
    }
   },
   "outputs": [
    {
     "data": {
      "text/plain": [
       "array([[ 1.8191075e-06,  0.0000000e+00,  0.0000000e+00, ...,\n",
       "        -1.1320270e-06,  1.7471376e-07,  1.7454253e-08],\n",
       "       [ 3.2180768e-08,  0.0000000e+00,  0.0000000e+00, ...,\n",
       "         6.7979454e-05,  1.9930592e-07,  3.7079524e-09],\n",
       "       [ 8.4202848e-06,  0.0000000e+00,  0.0000000e+00, ...,\n",
       "        -2.8618017e-05, -1.4543695e-06,  3.5031871e-08],\n",
       "       ...,\n",
       "       [-1.3842008e-05,  0.0000000e+00,  0.0000000e+00, ...,\n",
       "         2.5216303e-05,  1.3588677e-05, -2.7517572e-07],\n",
       "       [-3.2946493e-05,  0.0000000e+00,  0.0000000e+00, ...,\n",
       "         2.0403902e-04, -6.2212248e-06, -6.6444635e-08],\n",
       "       [ 4.5192527e-07,  0.0000000e+00,  0.0000000e+00, ...,\n",
       "        -2.5285169e-06,  2.4576269e-07,  1.2485127e-08]], dtype=float32)"
      ]
     },
     "execution_count": 255,
     "metadata": {},
     "output_type": "execute_result"
    }
   ],
   "source": [
    "np.dot(als_model.item_factors[:1000, :], als_model.user_factors.T)"
   ]
  },
  {
   "cell_type": "code",
   "execution_count": null,
   "metadata": {},
   "outputs": [],
   "source": []
  },
  {
   "cell_type": "code",
   "execution_count": 217,
   "metadata": {
    "ExecuteTime": {
     "end_time": "2020-06-19T11:04:17.135390Z",
     "start_time": "2020-06-19T11:04:17.127362Z"
    }
   },
   "outputs": [
    {
     "data": {
      "text/plain": [
       "(707989, 64)"
      ]
     },
     "execution_count": 217,
     "metadata": {},
     "output_type": "execute_result"
    }
   ],
   "source": [
    "als_model.user_factors.shape"
   ]
  },
  {
   "cell_type": "code",
   "execution_count": 219,
   "metadata": {
    "ExecuteTime": {
     "end_time": "2020-06-19T11:04:41.208321Z",
     "start_time": "2020-06-19T11:04:41.200324Z"
    }
   },
   "outputs": [
    {
     "data": {
      "text/plain": [
       "array([ 2.7422048e-04,  0.0000000e+00,  0.0000000e+00, ...,\n",
       "        7.4929837e-04,  1.0349140e-04, -6.9245093e-06], dtype=float32)"
      ]
     },
     "execution_count": 219,
     "metadata": {},
     "output_type": "execute_result"
    }
   ],
   "source": [
    "als_model.user_factors[:, 0]"
   ]
  },
  {
   "cell_type": "code",
   "execution_count": null,
   "metadata": {},
   "outputs": [],
   "source": [
    "als_model."
   ]
  },
  {
   "cell_type": "markdown",
   "metadata": {},
   "source": [
    "### AE"
   ]
  },
  {
   "cell_type": "code",
   "execution_count": 27,
   "metadata": {
    "ExecuteTime": {
     "end_time": "2020-06-23T07:13:43.574056Z",
     "start_time": "2020-06-23T07:13:43.562071Z"
    }
   },
   "outputs": [],
   "source": [
    "class DataGenerator(keras.utils.Sequence):\n",
    "    def __init__(self, R, batch_size = 64, shuffle = True):\n",
    "        self.R = R\n",
    "        self.batch_size = batch_size\n",
    "        self.shuffle = shuffle\n",
    "        self.on_epoch_end()\n",
    "        \n",
    "    def __len__(self):\n",
    "        return int(np.floor(self.R.shape[0] / self.batch_size))\n",
    "    \n",
    "    def on_epoch_end(self):\n",
    "        self.indices = np.arange(self.R.shape[0])\n",
    "        if self.shuffle == True:\n",
    "            np.random.shuffle(self.indices)\n",
    "            \n",
    "    def __getitem__(self, index):\n",
    "        indices = self.indices[index*self.batch_size:(index+1)*self.batch_size]\n",
    "        X = self.__data_generation(indices)\n",
    "        y = self.__data_generation(indices)\n",
    "        return X, y\n",
    "            \n",
    "    def __data_generation(self, indices):\n",
    "        X = self.R[indices, :].toarray()\n",
    "        return X"
   ]
  },
  {
   "cell_type": "code",
   "execution_count": 12,
   "metadata": {
    "ExecuteTime": {
     "end_time": "2020-06-23T06:58:39.520942Z",
     "start_time": "2020-06-23T06:58:39.463189Z"
    }
   },
   "outputs": [],
   "source": [
    "class fast_sparse_matrix(object):\n",
    "    \"\"\"\n",
    "    Adds fast columnar reads and updates to\n",
    "    a scipy.sparse.csr_matrix, at the cost\n",
    "    of keeping a csc_matrix of equal size as\n",
    "    a column-wise index into the same raw data.\n",
    "    It is updateable in the sense that you can\n",
    "    change the values of all the existing non-\n",
    "    zero entries in a given column.  Trying to\n",
    "    set other entries will result in an error.\n",
    "    For other functionality you are expected to\n",
    "    call methods on the underlying csr_matrix:\n",
    "    >>> fsm = fast_sparse_matrix(data) # data is a csr_matrix\n",
    "    >>> col = fsm.fast_get_col(2)      # get a column quickly\n",
    "    >>> row = fsm.X[1]                 # get a row as usual\n",
    "    \"\"\"\n",
    "    def __init__(self,X,col_view=None):\n",
    "        \"\"\"\n",
    "        Create a fast_sparse_matrix from a csr_matrix X. Note\n",
    "        that X is not copied and its values will be modified by\n",
    "        any subsequent call to fast_update_col().\n",
    "        Parameters\n",
    "        ----------\n",
    "        X : scipy sparse matrix\n",
    "            The sparse matrix to wrap.\n",
    "        col_view : scipy.csc_matrix, optional\n",
    "            The corresponding index matrix to provide fast columnar access,\n",
    "            created if not supplied here.\n",
    "        \"\"\"\n",
    "        self.X = X.tocsr()\n",
    "        if col_view is not None:\n",
    "            self.col_view = col_view\n",
    "        else:\n",
    "            # create the columnar index matrix\n",
    "            ind = self.X.copy()\n",
    "            ind.data = np.arange(self.X.nnz)\n",
    "            self.col_view = ind.tocsc()\n",
    "\n",
    "    @property\n",
    "    def shape(self):\n",
    "        \"\"\"\n",
    "        Return the shape of the underlying matrix.\n",
    "        \"\"\"\n",
    "        return self.X.shape\n",
    "\n",
    "    def fast_get_col(self,j):\n",
    "        \"\"\"\n",
    "        Return column j of the underlying matrix.\n",
    "        Parameters\n",
    "        ----------\n",
    "        j : int\n",
    "            Index of column to get.\n",
    "        Returns\n",
    "        -------\n",
    "        col : scipy.sparse.csc_matrix\n",
    "            Copy of column j of the matrix.\n",
    "        \"\"\"\n",
    "        col = self.col_view[:,j].copy()\n",
    "        col.data = self.X.data[col.data]\n",
    "        return col\n",
    "\n",
    "    def fast_update_col(self,j,vals):\n",
    "        \"\"\"\n",
    "        Update values of existing non-zeros in column\n",
    "        of the underlying matrix.\n",
    "        Parameters\n",
    "        ----------\n",
    "        j : int\n",
    "            Index of the column to update.\n",
    "        vals : array like\n",
    "            The new values to be assigned, must satisfy\n",
    "            len(vals) == X[:,j].nnz i.e. this method can\n",
    "            only change the value of existing non-zero entries\n",
    "            of column j, it cannot add new ones.\n",
    "        \"\"\"\n",
    "        dataptr = self.col_view[:,j].data\n",
    "        self.X.data[dataptr] = vals\n",
    "\n",
    "    def ensure_sparse_cols(self,max_density,remove_lowest=True):\n",
    "        \"\"\"\n",
    "        Ensure that no column of the matrix excess the specified\n",
    "        density, setting excess entries to zero where necessary.\n",
    "        This can be useful to avoid popularity bias in collaborative\n",
    "        filtering, by pruning the number of users for popular items:\n",
    "        >>> num_users,num_items = train.shape\n",
    "        >>> f = fast_sparse_matrix(train)\n",
    "        >>> f.ensure_sparse_cols(max_density=0.01)\n",
    "        Now any item in train has non-zero ratings from at most 1% of users.\n",
    "        Parameters\n",
    "        ----------\n",
    "        max_density : float\n",
    "            The highest allowable column-wise density. A value of one\n",
    "            or more is treated as an absolute limit on the number of\n",
    "            non-zero entries in a column, while a value of less than\n",
    "            one is treated as a density i.e. a proportion of the overall\n",
    "            number of rows.\n",
    "        remove_lowest : boolean (default: True)\n",
    "            If true then excess entries to be set to zero in a column are\n",
    "            chosen lowest first, otherwise they are selected randomly.\n",
    "        \"\"\"\n",
    "        if max_density >= 1:\n",
    "            max_nnz = int(max_density)\n",
    "        else:\n",
    "            max_nnz = int(max_density*self.shape[0])\n",
    "        for j in xrange(self.shape[1]):\n",
    "            col = self.fast_get_col(j)\n",
    "            excess = col.nnz - max_nnz\n",
    "            if excess > 0:\n",
    "                if remove_lowest:\n",
    "                    zero_entries = np.argsort(col.data)[:excess]\n",
    "                else:\n",
    "                    zero_entries = random.sample(xrange(col.nnz),excess)\n",
    "                col.data[zero_entries] = 0\n",
    "                self.fast_update_col(j,col.data)\n",
    "\n",
    "    def save(self,filepath):\n",
    "        \"\"\"\n",
    "        Save to file as arrays in numpy binary format.\n",
    "        Parameters\n",
    "        ----------\n",
    "        filepath : str\n",
    "            The filepath to write to.\n",
    "        \"\"\"\n",
    "        d = self.X.tocoo(copy=False)\n",
    "        v = self.col_view.tocoo(copy=False)\n",
    "        np.savez(filepath,row=d.row,col=d.col,data=d.data,shape=d.shape,\n",
    "                 v_row=v.row,v_col=v.col,v_data=v.data,v_shape=v.shape)\n",
    "\n",
    "    @staticmethod\n",
    "    def load(filepath):\n",
    "        \"\"\"\n",
    "        Load a fast_sparse_matrix from file written by fast_sparse_matrix.save().\n",
    "        Parameters\n",
    "        ----------\n",
    "        filepath : str\n",
    "            The filepath to load.\n",
    "        \"\"\"\n",
    "        y = np.load(filepath,mmap_mode='r')\n",
    "        X = coo_matrix((y['data'],(y['row'],y['col'])),shape=y['shape'])\n",
    "        col_view = coo_matrix((y['v_data'],(y['v_row'],y['v_col'])),shape=y['v_shape'])\n",
    "        return fast_sparse_matrix(X,col_view.tocsc())\n",
    "\n",
    "    @staticmethod\n",
    "    def loadtxt(filepath,comments='#',delimiter=None,skiprows=0,usecols=None,index_offset=1):\n",
    "        \"\"\"\n",
    "        Create a fast_sparse_matrix from simply formatted data such as TSV, handles\n",
    "        similar input to numpy.loadtxt().\n",
    "        Parameters\n",
    "        ----------\n",
    "        filepath : file or str\n",
    "            File containing simply formatted row,col,val sparse matrix data.\n",
    "        comments : str, optional\n",
    "            The character used to indicate the start of a comment (default: #).\n",
    "        delimiter : str, optional\n",
    "            The string used to separate values. By default, this is any whitespace.\n",
    "        skiprows : int, optional\n",
    "            Skip the first skiprows lines; default: 0.\n",
    "        usecols : sequence, optional\n",
    "            Which columns to read, with 0 being the first. For example, usecols = (1,4,5)\n",
    "            will extract the 2nd, 5th and 6th columns. The default, None, results in all\n",
    "            columns being read.\n",
    "        index_offset : int, optional\n",
    "            Offset applied to the row and col indices in the input data (default: 1).\n",
    "            The default offset is chosen so that 1-indexed data on file results in a\n",
    "            fast_sparse_matrix holding 0-indexed matrices.\n",
    "        Returns\n",
    "        -------\n",
    "        mat : mrec.sparse.fast_sparse_matrix\n",
    "            A fast_sparse_matrix holding the data in the file.\n",
    "        \"\"\"\n",
    "        X = loadtxt(filepath,comments=comments,delimiter=delimiter,skiprows=skiprows,usecols=usecols)\n",
    "        return fast_sparse_matrix(X)\n",
    "\n",
    "    @staticmethodq\n",
    "    def loadmm(filepath):\n",
    "        \"\"\"\n",
    "        Create a fast_sparse_matrix from matrixmarket data.\n",
    "        Parameters\n",
    "        ----------\n",
    "        filepath : file or str\n",
    "            The matrixmarket file to read.\n",
    "        Returns\n",
    "        -------\n",
    "        mat : mrec.sparse.fast_sparse_matrix\n",
    "            A fast_sparse_matrix holding the data in the file.\n",
    "        \"\"\"\n",
    "        X = mmread(filepath)\n",
    "        return fast_sparse_matrix(X)"
   ]
  },
  {
   "cell_type": "code",
   "execution_count": null,
   "metadata": {},
   "outputs": [],
   "source": []
  }
 ],
 "metadata": {
  "kernelspec": {
   "display_name": "Python 3",
   "language": "python",
   "name": "python3"
  },
  "language_info": {
   "codemirror_mode": {
    "name": "ipython",
    "version": 3
   },
   "file_extension": ".py",
   "mimetype": "text/x-python",
   "name": "python",
   "nbconvert_exporter": "python",
   "pygments_lexer": "ipython3",
   "version": "3.7.2"
  },
  "toc": {
   "base_numbering": 1,
   "nav_menu": {},
   "number_sections": true,
   "sideBar": true,
   "skip_h1_title": false,
   "title_cell": "Table of Contents",
   "title_sidebar": "Contents",
   "toc_cell": false,
   "toc_position": {},
   "toc_section_display": true,
   "toc_window_display": false
  },
  "varInspector": {
   "cols": {
    "lenName": 16,
    "lenType": 16,
    "lenVar": 40
   },
   "kernels_config": {
    "python": {
     "delete_cmd_postfix": "",
     "delete_cmd_prefix": "del ",
     "library": "var_list.py",
     "varRefreshCmd": "print(var_dic_list())"
    },
    "r": {
     "delete_cmd_postfix": ") ",
     "delete_cmd_prefix": "rm(",
     "library": "var_list.r",
     "varRefreshCmd": "cat(var_dic_list()) "
    }
   },
   "position": {
    "height": "384px",
    "left": "1113px",
    "right": "20px",
    "top": "35px",
    "width": "350px"
   },
   "types_to_exclude": [
    "module",
    "function",
    "builtin_function_or_method",
    "instance",
    "_Feature"
   ],
   "window_display": false
  }
 },
 "nbformat": 4,
 "nbformat_minor": 2
}
